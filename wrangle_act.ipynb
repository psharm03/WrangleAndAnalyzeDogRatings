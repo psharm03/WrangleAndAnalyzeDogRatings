{
 "cells": [
  {
   "cell_type": "markdown",
   "metadata": {},
   "source": [
    "## Gather Data"
   ]
  },
  {
   "cell_type": "code",
   "execution_count": 1,
   "metadata": {},
   "outputs": [],
   "source": [
    "import re\n",
    "import pandas as pd\n",
    "import tweepy\n",
    "import json\n",
    "import time\n",
    "import numpy as np\n",
    "import requests"
   ]
  },
  {
   "cell_type": "code",
   "execution_count": 121,
   "metadata": {},
   "outputs": [],
   "source": [
    "import matplotlib.pyplot as plt\n",
    "import seaborn as sb\n",
    "%matplotlib inline"
   ]
  },
  {
   "cell_type": "code",
   "execution_count": 4,
   "metadata": {},
   "outputs": [],
   "source": [
    "CONSUMER_KEY = 'XXXXXXXXXX'\n",
    "CONSUMER_SECRET = 'XXXXXXXXXX'\n",
    "ACCESS_TOKEN = 'XXXXXXXXXX'\n",
    "ACCESS_SECRET = 'XXXXXXXXXX'\n",
    "URL = 'https://d17h27t6h515a5.cloudfront.net/topher/2017/August/599fd2ad_image-predictions/image-predictions.tsv'"
   ]
  },
  {
   "cell_type": "code",
   "execution_count": 250,
   "metadata": {},
   "outputs": [],
   "source": [
    "df = pd.read_csv('twitter-archive-enhanced.csv')"
   ]
  },
  {
   "cell_type": "code",
   "execution_count": 5,
   "metadata": {},
   "outputs": [],
   "source": [
    "def download_file(url):\n",
    "    local_filename = url.split('/')[-1]\n",
    "    # NOTE the stream=True parameter\n",
    "    r = requests.get(url, stream=True)\n",
    "    with open(local_filename, 'wb') as f:\n",
    "        for chunk in r.iter_content(chunk_size=1024):\n",
    "            # filter out keep-alive new chunks\n",
    "            if chunk:\n",
    "                f.write(chunk)\n",
    "    return local_filename"
   ]
  },
  {
   "cell_type": "code",
   "execution_count": 6,
   "metadata": {},
   "outputs": [
    {
     "data": {
      "text/plain": [
       "'image-predictions.tsv'"
      ]
     },
     "execution_count": 6,
     "metadata": {},
     "output_type": "execute_result"
    }
   ],
   "source": [
    "download_file(URL)"
   ]
  },
  {
   "cell_type": "code",
   "execution_count": 7,
   "metadata": {},
   "outputs": [],
   "source": [
    "auth = tweepy.OAuthHandler(CONSUMER_KEY, CONSUMER_SECRET)\n",
    "auth.set_access_token(ACCESS_TOKEN, ACCESS_SECRET)"
   ]
  },
  {
   "cell_type": "code",
   "execution_count": 8,
   "metadata": {},
   "outputs": [],
   "source": [
    "api = tweepy.API(auth, wait_on_rate_limit=True, wait_on_rate_limit_notify=True)"
   ]
  },
  {
   "cell_type": "code",
   "execution_count": 9,
   "metadata": {},
   "outputs": [
    {
     "name": "stdout",
     "output_type": "stream",
     "text": [
      "tweet: 888202515573088257 deleted.\n",
      "tweet: 873697596434513921 deleted.\n",
      "tweet: 872668790621863937 deleted.\n",
      "tweet: 869988702071779329 deleted.\n",
      "tweet: 866816280283807744 deleted.\n",
      "tweet: 861769973181624320 deleted.\n",
      "tweet: 845459076796616705 deleted.\n",
      "tweet: 842892208864923648 deleted.\n",
      "tweet: 837012587749474308 deleted.\n",
      "tweet: 827228250799742977 deleted.\n",
      "tweet: 812747805718642688 deleted.\n",
      "tweet: 802247111496568832 deleted.\n",
      "tweet: 775096608509886464 deleted.\n",
      "tweet: 770743923962707968 deleted.\n",
      "Rate limit reached. Sleeping for: 736\n",
      "tweet: 754011816964026368 deleted.\n",
      "tweet: 680055455951884288 deleted.\n",
      "Rate limit reached. Sleeping for: 735\n",
      "took time 1912.314391374588 seconds\n"
     ]
    }
   ],
   "source": [
    "start_time = time.time()\n",
    "# for tweet_id in ids_of_tweet:\n",
    "for tweet_id in df.tweet_id:\n",
    "    try:\n",
    "        tweet = api.get_status(tweet_id, tweet_mode='extended')\n",
    "        data = tweet._json\n",
    "        with open('tweet_json.txt', 'a') as outfile:\n",
    "            json.dump(data, outfile)\n",
    "            __ = outfile.write('\\n')\n",
    "    except Exception:\n",
    "        print('tweet: {} deleted.'.format(tweet_id))\n",
    "\n",
    "print('took time %s seconds' % (time.time() - start_time))"
   ]
  },
  {
   "cell_type": "code",
   "execution_count": 251,
   "metadata": {},
   "outputs": [],
   "source": [
    "tweet_df = pd.DataFrame()\n",
    "with open('tweet_json.txt') as json_file:\n",
    "    for line in json_file:\n",
    "        data = json.loads(line.rstrip())\n",
    "        tmp_df = pd.DataFrame.from_dict(data, orient='index').T\n",
    "        tweet_df = tweet_df.append(tmp_df, ignore_index=True)"
   ]
  },
  {
   "cell_type": "code",
   "execution_count": 252,
   "metadata": {},
   "outputs": [
    {
     "name": "stdout",
     "output_type": "stream",
     "text": [
      "<class 'pandas.core.frame.DataFrame'>\n",
      "RangeIndex: 2342 entries, 0 to 2341\n",
      "Data columns (total 32 columns):\n",
      "contributors                     0 non-null object\n",
      "coordinates                      0 non-null object\n",
      "created_at                       2342 non-null object\n",
      "display_text_range               2342 non-null object\n",
      "entities                         2342 non-null object\n",
      "extended_entities                2068 non-null object\n",
      "favorite_count                   2342 non-null object\n",
      "favorited                        2342 non-null object\n",
      "full_text                        2342 non-null object\n",
      "geo                              0 non-null object\n",
      "id                               2342 non-null object\n",
      "id_str                           2342 non-null object\n",
      "in_reply_to_screen_name          77 non-null object\n",
      "in_reply_to_status_id            77 non-null object\n",
      "in_reply_to_status_id_str        77 non-null object\n",
      "in_reply_to_user_id              77 non-null object\n",
      "in_reply_to_user_id_str          77 non-null object\n",
      "is_quote_status                  2342 non-null object\n",
      "lang                             2342 non-null object\n",
      "place                            1 non-null object\n",
      "possibly_sensitive               2206 non-null object\n",
      "possibly_sensitive_appealable    2206 non-null object\n",
      "quoted_status                    24 non-null object\n",
      "quoted_status_id                 26 non-null object\n",
      "quoted_status_id_str             26 non-null object\n",
      "quoted_status_permalink          26 non-null object\n",
      "retweet_count                    2342 non-null object\n",
      "retweeted                        2342 non-null object\n",
      "retweeted_status                 168 non-null object\n",
      "source                           2342 non-null object\n",
      "truncated                        2342 non-null object\n",
      "user                             2342 non-null object\n",
      "dtypes: object(32)\n",
      "memory usage: 585.6+ KB\n"
     ]
    }
   ],
   "source": [
    "tweet_df.info()"
   ]
  },
  {
   "cell_type": "code",
   "execution_count": 253,
   "metadata": {},
   "outputs": [
    {
     "name": "stdout",
     "output_type": "stream",
     "text": [
      "<class 'pandas.core.frame.DataFrame'>\n",
      "RangeIndex: 2356 entries, 0 to 2355\n",
      "Data columns (total 17 columns):\n",
      "tweet_id                      2356 non-null int64\n",
      "in_reply_to_status_id         78 non-null float64\n",
      "in_reply_to_user_id           78 non-null float64\n",
      "timestamp                     2356 non-null object\n",
      "source                        2356 non-null object\n",
      "text                          2356 non-null object\n",
      "retweeted_status_id           181 non-null float64\n",
      "retweeted_status_user_id      181 non-null float64\n",
      "retweeted_status_timestamp    181 non-null object\n",
      "expanded_urls                 2297 non-null object\n",
      "rating_numerator              2356 non-null int64\n",
      "rating_denominator            2356 non-null int64\n",
      "name                          2356 non-null object\n",
      "doggo                         2356 non-null object\n",
      "floofer                       2356 non-null object\n",
      "pupper                        2356 non-null object\n",
      "puppo                         2356 non-null object\n",
      "dtypes: float64(4), int64(3), object(10)\n",
      "memory usage: 313.0+ KB\n"
     ]
    }
   ],
   "source": [
    "df.info()"
   ]
  },
  {
   "cell_type": "markdown",
   "metadata": {},
   "source": [
    "## Asses for Quality and Tidiness"
   ]
  },
  {
   "cell_type": "markdown",
   "metadata": {},
   "source": [
    "### Quality\n",
    "> twitter-archive-enhanced.csv\n",
    "    1. timestamp of object type\n",
    "    2. names 'the', 'an' and 'a' (maybe looking from \"This is\" in name and assumed 3rd index is name)\n",
    "    3. doggo floofer pupper puppo None not pandas NULL or NA\n",
    "    4. some ratings are off df.text[313]\n",
    "    5. different rating scale df.text[1634] 143/130 (NO NEED)\n",
    "    5. correct rating num and deno df.loc[516, 'rating_numerator'] = np.nan\n",
    "    6. convert in_reply_to_status_id and in_reply_to_user_id to int64 (NO NEED)\n",
    "    7. multiple entries in expanded urls df.expanded_urls[150]\n",
    "    8. Convert None name to pandas None (NO NEED)\n",
    "\n",
    "> tweet_json.txt\n",
    "    9. 14 tweets got deleted. so missing data\n",
    "    10. column favorite_count should be int\n",
    "    11. column retweet_count should be int\n",
    "    12. convert column created_at to datetime (NO-NEED)\n",
    "    13. correct rating num with decimal values\n",
    "    14. get dog pic url."
   ]
  },
  {
   "cell_type": "markdown",
   "metadata": {},
   "source": [
    "### Tidiness\n",
    "\n",
    "> twitter-archive-enhanced.csv\n",
    "    1. column doggo floofer pupper puppo should be one \"breed\" column\n",
    "    2. take id_str out\n",
    "    3. delete user, full_text column\n",
    "    4. convert display_text_range to length column\n",
    "    5. create new tweet table with columns tweet_id, timestamp/created_at, source/source, text/full_text, expanded_urls, rating_numerator, rating_denominator, display_text_range/length, favorite_count, is_quote_status, lang, retweet_count\n",
    "    6. new column rating_ratio\n",
    "    7. Create new table dog with tweet_id name type(doggo floofer pupper puppo), pic_url, pic_media_id"
   ]
  },
  {
   "cell_type": "markdown",
   "metadata": {},
   "source": [
    "## Clean Data"
   ]
  },
  {
   "cell_type": "code",
   "execution_count": 254,
   "metadata": {},
   "outputs": [],
   "source": [
    "df.timestamp = pd.to_datetime(df.timestamp)"
   ]
  },
  {
   "cell_type": "code",
   "execution_count": 255,
   "metadata": {},
   "outputs": [],
   "source": [
    "df.loc[df.name == 'None', 'name'] = np.nan\n",
    "df.loc[df.name == 'a', 'name'] = np.nan\n",
    "df.loc[df.name == 'an', 'name'] = np.nan\n",
    "df.loc[df.name == 'the', 'name'] = np.nan\n",
    "df.loc[df.name == 'quite', 'name'] = np.nan\n",
    "df.loc[df.name == 'very', 'name'] = np.nan"
   ]
  },
  {
   "cell_type": "code",
   "execution_count": 256,
   "metadata": {},
   "outputs": [],
   "source": [
    "def get_type(one_row):\n",
    "    ret_str = ','.join([x for x in one_row.split(',') if x != \"None\"])\n",
    "    if ret_str:\n",
    "        return ','.join([x for x in one_row.split(',') if x != \"None\"])\n",
    "    else:\n",
    "        return np.nan"
   ]
  },
  {
   "cell_type": "code",
   "execution_count": 257,
   "metadata": {},
   "outputs": [],
   "source": [
    "# Tidiness\n",
    "# 1.\n",
    "df['type'] = df.doggo + ',' + df.floofer + ',' + df.pupper + ',' + df.puppo"
   ]
  },
  {
   "cell_type": "code",
   "execution_count": 258,
   "metadata": {},
   "outputs": [],
   "source": [
    "# 3\n",
    "df['type'] = df['type'].apply(get_type)"
   ]
  },
  {
   "cell_type": "code",
   "execution_count": 259,
   "metadata": {},
   "outputs": [],
   "source": [
    "# 4.\n",
    "df.loc[313, 'rating_numerator'] = 13\n",
    "df.loc[313, 'rating_denominator'] = 10"
   ]
  },
  {
   "cell_type": "code",
   "execution_count": 260,
   "metadata": {},
   "outputs": [],
   "source": [
    "# T6.\n",
    "df['rating_ratio'] = df.rating_numerator / df.rating_denominator"
   ]
  },
  {
   "cell_type": "code",
   "execution_count": 261,
   "metadata": {},
   "outputs": [],
   "source": [
    "# 5.\n",
    "df.loc[516, 'rating_numerator'] = np.nan\n",
    "df.loc[516, 'rating_denominator'] = np.nan\n",
    "df.loc[516, 'rating_ratio'] = np.nan"
   ]
  },
  {
   "cell_type": "code",
   "execution_count": 262,
   "metadata": {},
   "outputs": [],
   "source": [
    "def find_numerator(one_row):\n",
    "    res_out = re.search(r'\\d+\\.\\d+/\\d+', one_row)\n",
    "    if res_out:\n",
    "        return float(res_out.group(0).split('/')[0])\n",
    "    elif re.search(r'\\d+/\\d+', one_row):\n",
    "        res_out = re.findall(r'\\d+/\\d+', one_row)\n",
    "        if len(res_out) > 1:\n",
    "            return float(res_out[-1].split('/')[0])\n",
    "        else:\n",
    "            return float(res_out[0].split('/')[0])"
   ]
  },
  {
   "cell_type": "code",
   "execution_count": 263,
   "metadata": {},
   "outputs": [],
   "source": [
    "def find_denominator(one_row):\n",
    "    res_out = re.search(r'\\d+\\.\\d+/\\d+', one_row)\n",
    "    if res_out:\n",
    "        return float(res_out.group(0).split('/')[1])\n",
    "    elif re.search(r'\\d+/\\d+', one_row):\n",
    "        res_out = re.findall(r'\\d+/\\d+', one_row)\n",
    "        if len(res_out) > 1:\n",
    "            return float(res_out[-1].split('/')[1])\n",
    "        else:\n",
    "            return float(res_out[0].split('/')[1])"
   ]
  },
  {
   "cell_type": "code",
   "execution_count": 264,
   "metadata": {},
   "outputs": [],
   "source": [
    "# 13\n",
    "df['rating_numerator_new'] = df.text.apply(find_numerator)\n",
    "df['rating_denominator_new'] = df.text.apply(find_denominator)"
   ]
  },
  {
   "cell_type": "code",
   "execution_count": 265,
   "metadata": {},
   "outputs": [
    {
     "data": {
      "text/html": [
       "<div>\n",
       "<style>\n",
       "    .dataframe thead tr:only-child th {\n",
       "        text-align: right;\n",
       "    }\n",
       "\n",
       "    .dataframe thead th {\n",
       "        text-align: left;\n",
       "    }\n",
       "\n",
       "    .dataframe tbody tr th {\n",
       "        vertical-align: top;\n",
       "    }\n",
       "</style>\n",
       "<table border=\"1\" class=\"dataframe\">\n",
       "  <thead>\n",
       "    <tr style=\"text-align: right;\">\n",
       "      <th></th>\n",
       "      <th>rating_numerator</th>\n",
       "      <th>rating_numerator_new</th>\n",
       "      <th>rating_denominator</th>\n",
       "      <th>rating_denominator_new</th>\n",
       "    </tr>\n",
       "  </thead>\n",
       "  <tbody>\n",
       "    <tr>\n",
       "      <th>2335</th>\n",
       "      <td>1.0</td>\n",
       "      <td>9.0</td>\n",
       "      <td>2.0</td>\n",
       "      <td>10.0</td>\n",
       "    </tr>\n",
       "  </tbody>\n",
       "</table>\n",
       "</div>"
      ],
      "text/plain": [
       "      rating_numerator  rating_numerator_new  rating_denominator  \\\n",
       "2335               1.0                   9.0                 2.0   \n",
       "\n",
       "      rating_denominator_new  \n",
       "2335                    10.0  "
      ]
     },
     "execution_count": 265,
     "metadata": {},
     "output_type": "execute_result"
    }
   ],
   "source": [
    "df[df.text.str.contains('This is an Albanian 3 1/2 legged  Episcopalian')][['rating_numerator','rating_numerator_new','rating_denominator','rating_denominator_new']]"
   ]
  },
  {
   "cell_type": "code",
   "execution_count": 266,
   "metadata": {},
   "outputs": [],
   "source": [
    "df['rating_ratio'] = df.rating_numerator_new / df.rating_denominator_new"
   ]
  },
  {
   "cell_type": "code",
   "execution_count": 267,
   "metadata": {},
   "outputs": [],
   "source": [
    "df.loc[516, 'rating_numerator_new'] = np.nan\n",
    "df.loc[516, 'rating_denominator_new'] = np.nan\n",
    "df.loc[516, 'rating_ratio'] = np.nan"
   ]
  },
  {
   "cell_type": "code",
   "execution_count": 268,
   "metadata": {},
   "outputs": [],
   "source": [
    "def get_dog_pic_url(one_row):\n",
    "    if 'media' in one_row:\n",
    "        return one_row['media'][0]['media_url_https']\n",
    "    else:\n",
    "        return np.nan"
   ]
  },
  {
   "cell_type": "code",
   "execution_count": 269,
   "metadata": {},
   "outputs": [],
   "source": [
    "def get_dog_media_id(one_row):\n",
    "    if 'media' in one_row:\n",
    "        return one_row[\"media\"][0][\"id\"]\n",
    "    else:\n",
    "        return np.nan"
   ]
  },
  {
   "cell_type": "code",
   "execution_count": 270,
   "metadata": {},
   "outputs": [],
   "source": [
    "# 7.\n",
    "def get_expanded_urls(one_row):\n",
    "    if type(one_row) is str:\n",
    "        return one_row.split(',')[-1]\n",
    "    else:\n",
    "        return np.nan"
   ]
  },
  {
   "cell_type": "code",
   "execution_count": 271,
   "metadata": {},
   "outputs": [],
   "source": [
    "df['expanded_urls_new'] = df.expanded_urls.apply(get_expanded_urls)"
   ]
  },
  {
   "cell_type": "code",
   "execution_count": 272,
   "metadata": {},
   "outputs": [],
   "source": [
    "# 10.\n",
    "tweet_df.favorite_count = tweet_df.favorite_count.astype(int)"
   ]
  },
  {
   "cell_type": "code",
   "execution_count": 273,
   "metadata": {},
   "outputs": [],
   "source": [
    "# 11.\n",
    "tweet_df.retweet_count = tweet_df.retweet_count.astype(int)"
   ]
  },
  {
   "cell_type": "code",
   "execution_count": 274,
   "metadata": {},
   "outputs": [],
   "source": [
    "def get_length(one_row):\n",
    "    one_row_list = list(one_row)\n",
    "    return int(one_row_list[1] - one_row_list[0])"
   ]
  },
  {
   "cell_type": "code",
   "execution_count": 275,
   "metadata": {},
   "outputs": [],
   "source": [
    "# 4\n",
    "tweet_df['display_text_length'] = tweet_df.display_text_range.apply(get_length)"
   ]
  },
  {
   "cell_type": "code",
   "execution_count": 276,
   "metadata": {},
   "outputs": [],
   "source": [
    "df2 = tweet_df.copy()"
   ]
  },
  {
   "cell_type": "code",
   "execution_count": 277,
   "metadata": {},
   "outputs": [],
   "source": [
    "df3 = pd.merge(df2, df, how='left', left_on='id', right_on='tweet_id')"
   ]
  },
  {
   "cell_type": "code",
   "execution_count": 278,
   "metadata": {},
   "outputs": [],
   "source": [
    "tweet = df3.copy()"
   ]
  },
  {
   "cell_type": "code",
   "execution_count": 279,
   "metadata": {},
   "outputs": [],
   "source": [
    "dog = df3.copy()"
   ]
  },
  {
   "cell_type": "code",
   "execution_count": 280,
   "metadata": {},
   "outputs": [],
   "source": [
    "dog[\"dog_pic_url\"] = dog.entities.apply(get_dog_pic_url)"
   ]
  },
  {
   "cell_type": "code",
   "execution_count": 281,
   "metadata": {},
   "outputs": [],
   "source": [
    "dog[\"dog_media_id\"] = dog.entities.apply(get_dog_media_id)"
   ]
  },
  {
   "cell_type": "code",
   "execution_count": 282,
   "metadata": {},
   "outputs": [],
   "source": [
    "tweet.drop(['contributors', 'coordinates'], axis=1, inplace=True)"
   ]
  },
  {
   "cell_type": "code",
   "execution_count": 283,
   "metadata": {},
   "outputs": [],
   "source": [
    "tweet.drop(['expanded_urls', 'created_at', 'display_text_range', 'entities', 'extended_entities', 'favorited', 'full_text', 'geo', 'id', 'id_str', 'in_reply_to_screen_name', 'in_reply_to_status_id_x', 'in_reply_to_status_id_str', 'in_reply_to_user_id_x', 'in_reply_to_user_id_str', 'place', 'possibly_sensitive', 'possibly_sensitive_appealable', 'quoted_status', 'quoted_status_id', 'quoted_status_id_str', 'quoted_status_permalink', 'retweeted', 'retweeted_status', 'truncated', 'user', 'in_reply_to_status_id_y', 'in_reply_to_user_id_y', 'source_y', 'retweeted_status_id', 'retweeted_status_user_id', 'retweeted_status_timestamp', 'rating_numerator', 'rating_denominator', 'name', 'doggo', 'floofer', 'pupper', 'puppo', 'type'], axis=1, inplace=True)"
   ]
  },
  {
   "cell_type": "code",
   "execution_count": 284,
   "metadata": {},
   "outputs": [],
   "source": [
    "dog.drop(['contributors', 'coordinates', 'created_at', 'display_text_range', 'entities', 'extended_entities', 'favorite_count', 'favorited', 'full_text', 'geo', 'id', 'id_str', 'in_reply_to_screen_name', 'in_reply_to_status_id_x', 'in_reply_to_status_id_str', 'in_reply_to_user_id_x', 'in_reply_to_user_id_str', 'is_quote_status', 'lang', 'place', 'possibly_sensitive', 'possibly_sensitive_appealable', 'quoted_status', 'quoted_status_id', 'quoted_status_id_str', 'quoted_status_permalink', 'retweet_count', 'retweeted', 'retweeted_status', 'source_x', 'truncated', 'user', 'display_text_length', 'in_reply_to_status_id_y', 'in_reply_to_user_id_y', 'timestamp', 'source_y', 'text', 'retweeted_status_id', 'retweeted_status_user_id', 'retweeted_status_timestamp', 'expanded_urls', 'rating_numerator', 'rating_denominator', 'doggo', 'floofer', 'pupper', 'puppo', 'rating_ratio', 'rating_numerator_new', 'rating_denominator_new', 'expanded_urls_new'], axis=1, inplace=True)"
   ]
  },
  {
   "cell_type": "code",
   "execution_count": 285,
   "metadata": {},
   "outputs": [],
   "source": [
    "dog.rename(index=str, columns={\"dog_pic_url\": \"pic_url\", \"dog_media_id\": \"media_id\"}, inplace=True)"
   ]
  },
  {
   "cell_type": "code",
   "execution_count": 286,
   "metadata": {},
   "outputs": [],
   "source": [
    "tweet.rename(index=str, columns={\"source_x\": \"source\", \"rating_numerator_new\": \"rating_numerator\", \"rating_denominator_new\": \"rating_denominator\", \"expanded_urls_new\": \"expanded_urls\"}, inplace=True)"
   ]
  },
  {
   "cell_type": "code",
   "execution_count": 287,
   "metadata": {},
   "outputs": [
    {
     "data": {
      "text/html": [
       "<div>\n",
       "<style>\n",
       "    .dataframe thead tr:only-child th {\n",
       "        text-align: right;\n",
       "    }\n",
       "\n",
       "    .dataframe thead th {\n",
       "        text-align: left;\n",
       "    }\n",
       "\n",
       "    .dataframe tbody tr th {\n",
       "        vertical-align: top;\n",
       "    }\n",
       "</style>\n",
       "<table border=\"1\" class=\"dataframe\">\n",
       "  <thead>\n",
       "    <tr style=\"text-align: right;\">\n",
       "      <th></th>\n",
       "      <th>tweet_id</th>\n",
       "      <th>name</th>\n",
       "      <th>type</th>\n",
       "      <th>pic_url</th>\n",
       "      <th>media_id</th>\n",
       "    </tr>\n",
       "  </thead>\n",
       "  <tbody>\n",
       "    <tr>\n",
       "      <th>0</th>\n",
       "      <td>892420643555336193</td>\n",
       "      <td>Phineas</td>\n",
       "      <td>NaN</td>\n",
       "      <td>https://pbs.twimg.com/media/DGKD1-bXoAAIAUK.jpg</td>\n",
       "      <td>8.924206e+17</td>\n",
       "    </tr>\n",
       "    <tr>\n",
       "      <th>1</th>\n",
       "      <td>892177421306343426</td>\n",
       "      <td>Tilly</td>\n",
       "      <td>NaN</td>\n",
       "      <td>https://pbs.twimg.com/media/DGGmoV4XsAAUL6n.jpg</td>\n",
       "      <td>8.921774e+17</td>\n",
       "    </tr>\n",
       "    <tr>\n",
       "      <th>2</th>\n",
       "      <td>891815181378084864</td>\n",
       "      <td>Archie</td>\n",
       "      <td>NaN</td>\n",
       "      <td>https://pbs.twimg.com/media/DGBdLU1WsAANxJ9.jpg</td>\n",
       "      <td>8.918152e+17</td>\n",
       "    </tr>\n",
       "    <tr>\n",
       "      <th>3</th>\n",
       "      <td>891689557279858688</td>\n",
       "      <td>Darla</td>\n",
       "      <td>NaN</td>\n",
       "      <td>https://pbs.twimg.com/media/DF_q7IAWsAEuuN8.jpg</td>\n",
       "      <td>8.916896e+17</td>\n",
       "    </tr>\n",
       "    <tr>\n",
       "      <th>4</th>\n",
       "      <td>891327558926688256</td>\n",
       "      <td>Franklin</td>\n",
       "      <td>NaN</td>\n",
       "      <td>https://pbs.twimg.com/media/DF6hr6AVYAAZ8G8.jpg</td>\n",
       "      <td>8.913276e+17</td>\n",
       "    </tr>\n",
       "  </tbody>\n",
       "</table>\n",
       "</div>"
      ],
      "text/plain": [
       "             tweet_id      name type  \\\n",
       "0  892420643555336193   Phineas  NaN   \n",
       "1  892177421306343426     Tilly  NaN   \n",
       "2  891815181378084864    Archie  NaN   \n",
       "3  891689557279858688     Darla  NaN   \n",
       "4  891327558926688256  Franklin  NaN   \n",
       "\n",
       "                                           pic_url      media_id  \n",
       "0  https://pbs.twimg.com/media/DGKD1-bXoAAIAUK.jpg  8.924206e+17  \n",
       "1  https://pbs.twimg.com/media/DGGmoV4XsAAUL6n.jpg  8.921774e+17  \n",
       "2  https://pbs.twimg.com/media/DGBdLU1WsAANxJ9.jpg  8.918152e+17  \n",
       "3  https://pbs.twimg.com/media/DF_q7IAWsAEuuN8.jpg  8.916896e+17  \n",
       "4  https://pbs.twimg.com/media/DF6hr6AVYAAZ8G8.jpg  8.913276e+17  "
      ]
     },
     "execution_count": 287,
     "metadata": {},
     "output_type": "execute_result"
    }
   ],
   "source": [
    "dog.head()"
   ]
  },
  {
   "cell_type": "code",
   "execution_count": 288,
   "metadata": {},
   "outputs": [
    {
     "data": {
      "text/html": [
       "<div>\n",
       "<style>\n",
       "    .dataframe thead tr:only-child th {\n",
       "        text-align: right;\n",
       "    }\n",
       "\n",
       "    .dataframe thead th {\n",
       "        text-align: left;\n",
       "    }\n",
       "\n",
       "    .dataframe tbody tr th {\n",
       "        vertical-align: top;\n",
       "    }\n",
       "</style>\n",
       "<table border=\"1\" class=\"dataframe\">\n",
       "  <thead>\n",
       "    <tr style=\"text-align: right;\">\n",
       "      <th></th>\n",
       "      <th>favorite_count</th>\n",
       "      <th>is_quote_status</th>\n",
       "      <th>lang</th>\n",
       "      <th>retweet_count</th>\n",
       "      <th>source</th>\n",
       "      <th>display_text_length</th>\n",
       "      <th>tweet_id</th>\n",
       "      <th>timestamp</th>\n",
       "      <th>text</th>\n",
       "      <th>rating_ratio</th>\n",
       "      <th>rating_numerator</th>\n",
       "      <th>rating_denominator</th>\n",
       "      <th>expanded_urls</th>\n",
       "    </tr>\n",
       "  </thead>\n",
       "  <tbody>\n",
       "    <tr>\n",
       "      <th>0</th>\n",
       "      <td>38125</td>\n",
       "      <td>False</td>\n",
       "      <td>en</td>\n",
       "      <td>8337</td>\n",
       "      <td>&lt;a href=\"http://twitter.com/download/iphone\" r...</td>\n",
       "      <td>85</td>\n",
       "      <td>892420643555336193</td>\n",
       "      <td>2017-08-01 16:23:56</td>\n",
       "      <td>This is Phineas. He's a mystical boy. Only eve...</td>\n",
       "      <td>1.3</td>\n",
       "      <td>13.0</td>\n",
       "      <td>10.0</td>\n",
       "      <td>https://twitter.com/dog_rates/status/892420643...</td>\n",
       "    </tr>\n",
       "    <tr>\n",
       "      <th>1</th>\n",
       "      <td>32700</td>\n",
       "      <td>False</td>\n",
       "      <td>en</td>\n",
       "      <td>6162</td>\n",
       "      <td>&lt;a href=\"http://twitter.com/download/iphone\" r...</td>\n",
       "      <td>138</td>\n",
       "      <td>892177421306343426</td>\n",
       "      <td>2017-08-01 00:17:27</td>\n",
       "      <td>This is Tilly. She's just checking pup on you....</td>\n",
       "      <td>1.3</td>\n",
       "      <td>13.0</td>\n",
       "      <td>10.0</td>\n",
       "      <td>https://twitter.com/dog_rates/status/892177421...</td>\n",
       "    </tr>\n",
       "    <tr>\n",
       "      <th>2</th>\n",
       "      <td>24623</td>\n",
       "      <td>False</td>\n",
       "      <td>en</td>\n",
       "      <td>4079</td>\n",
       "      <td>&lt;a href=\"http://twitter.com/download/iphone\" r...</td>\n",
       "      <td>121</td>\n",
       "      <td>891815181378084864</td>\n",
       "      <td>2017-07-31 00:18:03</td>\n",
       "      <td>This is Archie. He is a rare Norwegian Pouncin...</td>\n",
       "      <td>1.2</td>\n",
       "      <td>12.0</td>\n",
       "      <td>10.0</td>\n",
       "      <td>https://twitter.com/dog_rates/status/891815181...</td>\n",
       "    </tr>\n",
       "    <tr>\n",
       "      <th>3</th>\n",
       "      <td>41474</td>\n",
       "      <td>False</td>\n",
       "      <td>en</td>\n",
       "      <td>8483</td>\n",
       "      <td>&lt;a href=\"http://twitter.com/download/iphone\" r...</td>\n",
       "      <td>79</td>\n",
       "      <td>891689557279858688</td>\n",
       "      <td>2017-07-30 15:58:51</td>\n",
       "      <td>This is Darla. She commenced a snooze mid meal...</td>\n",
       "      <td>1.3</td>\n",
       "      <td>13.0</td>\n",
       "      <td>10.0</td>\n",
       "      <td>https://twitter.com/dog_rates/status/891689557...</td>\n",
       "    </tr>\n",
       "    <tr>\n",
       "      <th>4</th>\n",
       "      <td>39636</td>\n",
       "      <td>False</td>\n",
       "      <td>en</td>\n",
       "      <td>9169</td>\n",
       "      <td>&lt;a href=\"http://twitter.com/download/iphone\" r...</td>\n",
       "      <td>138</td>\n",
       "      <td>891327558926688256</td>\n",
       "      <td>2017-07-29 16:00:24</td>\n",
       "      <td>This is Franklin. He would like you to stop ca...</td>\n",
       "      <td>1.2</td>\n",
       "      <td>12.0</td>\n",
       "      <td>10.0</td>\n",
       "      <td>https://twitter.com/dog_rates/status/891327558...</td>\n",
       "    </tr>\n",
       "  </tbody>\n",
       "</table>\n",
       "</div>"
      ],
      "text/plain": [
       "   favorite_count is_quote_status lang  retweet_count  \\\n",
       "0           38125           False   en           8337   \n",
       "1           32700           False   en           6162   \n",
       "2           24623           False   en           4079   \n",
       "3           41474           False   en           8483   \n",
       "4           39636           False   en           9169   \n",
       "\n",
       "                                              source  display_text_length  \\\n",
       "0  <a href=\"http://twitter.com/download/iphone\" r...                   85   \n",
       "1  <a href=\"http://twitter.com/download/iphone\" r...                  138   \n",
       "2  <a href=\"http://twitter.com/download/iphone\" r...                  121   \n",
       "3  <a href=\"http://twitter.com/download/iphone\" r...                   79   \n",
       "4  <a href=\"http://twitter.com/download/iphone\" r...                  138   \n",
       "\n",
       "             tweet_id           timestamp  \\\n",
       "0  892420643555336193 2017-08-01 16:23:56   \n",
       "1  892177421306343426 2017-08-01 00:17:27   \n",
       "2  891815181378084864 2017-07-31 00:18:03   \n",
       "3  891689557279858688 2017-07-30 15:58:51   \n",
       "4  891327558926688256 2017-07-29 16:00:24   \n",
       "\n",
       "                                                text  rating_ratio  \\\n",
       "0  This is Phineas. He's a mystical boy. Only eve...           1.3   \n",
       "1  This is Tilly. She's just checking pup on you....           1.3   \n",
       "2  This is Archie. He is a rare Norwegian Pouncin...           1.2   \n",
       "3  This is Darla. She commenced a snooze mid meal...           1.3   \n",
       "4  This is Franklin. He would like you to stop ca...           1.2   \n",
       "\n",
       "   rating_numerator  rating_denominator  \\\n",
       "0              13.0                10.0   \n",
       "1              13.0                10.0   \n",
       "2              12.0                10.0   \n",
       "3              13.0                10.0   \n",
       "4              12.0                10.0   \n",
       "\n",
       "                                       expanded_urls  \n",
       "0  https://twitter.com/dog_rates/status/892420643...  \n",
       "1  https://twitter.com/dog_rates/status/892177421...  \n",
       "2  https://twitter.com/dog_rates/status/891815181...  \n",
       "3  https://twitter.com/dog_rates/status/891689557...  \n",
       "4  https://twitter.com/dog_rates/status/891327558...  "
      ]
     },
     "execution_count": 288,
     "metadata": {},
     "output_type": "execute_result"
    }
   ],
   "source": [
    "tweet.head()"
   ]
  },
  {
   "cell_type": "markdown",
   "metadata": {},
   "source": [
    "## Storing, Analyzing, and Visualizing Data for this Project"
   ]
  },
  {
   "cell_type": "code",
   "execution_count": 289,
   "metadata": {},
   "outputs": [],
   "source": [
    "tweet.to_csv('tweet.csv')"
   ]
  },
  {
   "cell_type": "code",
   "execution_count": 290,
   "metadata": {},
   "outputs": [],
   "source": [
    "dog.to_csv('dog.csv')"
   ]
  },
  {
   "cell_type": "code",
   "execution_count": 291,
   "metadata": {},
   "outputs": [],
   "source": [
    "from sqlalchemy import create_engine"
   ]
  },
  {
   "cell_type": "code",
   "execution_count": 292,
   "metadata": {},
   "outputs": [],
   "source": [
    "engine = create_engine('sqlite:///wrangle_act.db')"
   ]
  },
  {
   "cell_type": "code",
   "execution_count": 293,
   "metadata": {},
   "outputs": [],
   "source": [
    "tweet.to_sql('tweet', con=engine)"
   ]
  },
  {
   "cell_type": "code",
   "execution_count": 294,
   "metadata": {},
   "outputs": [],
   "source": [
    "dog.to_sql('dog', con=engine)"
   ]
  },
  {
   "cell_type": "code",
   "execution_count": 295,
   "metadata": {},
   "outputs": [],
   "source": [
    "base_color = sb.color_palette()[0]"
   ]
  },
  {
   "cell_type": "markdown",
   "metadata": {},
   "source": [
    "### Most popular dog names."
   ]
  },
  {
   "cell_type": "code",
   "execution_count": 296,
   "metadata": {},
   "outputs": [
    {
     "data": {
      "image/png": "[encoded data removed]",
      "text/plain": [
       "<matplotlib.figure.Figure at 0x7f32b2f40e48>"
      ]
     },
     "metadata": {
      "needs_background": "light"
     },
     "output_type": "display_data"
    }
   ],
   "source": [
    "plt.figure(figsize=(8, 15))\n",
    "sb.countplot(y='name', color=base_color, data=dog, order=dog.name.value_counts().iloc[:25].index);"
   ]
  },
  {
   "cell_type": "markdown",
   "metadata": {},
   "source": [
    "### Most Favorite Dog Ttype"
   ]
  },
  {
   "cell_type": "code",
   "execution_count": 310,
   "metadata": {},
   "outputs": [
    {
     "data": {
      "text/plain": [
       "'doggo'"
      ]
     },
     "execution_count": 310,
     "metadata": {},
     "output_type": "execute_result"
    }
   ],
   "source": [
    "dog[dog.tweet_id == tweet[tweet.favorite_count == tweet.favorite_count.max()].tweet_id[0]].type[0]"
   ]
  },
  {
   "cell_type": "markdown",
   "metadata": {},
   "source": [
    "### Dogs Rating Ratio Distribution"
   ]
  },
  {
   "cell_type": "code",
   "execution_count": 332,
   "metadata": {},
   "outputs": [
    {
     "data": {
      "image/png": "[encoded data removed]",
      "text/plain": [
       "<matplotlib.figure.Figure at 0x7f329a9b0a58>"
      ]
     },
     "metadata": {
      "needs_background": "light"
     },
     "output_type": "display_data"
    }
   ],
   "source": [
    "bin_edges = np.arange(0, tweet.rating_ratio.max()+0.01, 0.01)\n",
    "sb.distplot(tweet[tweet.rating_ratio.notnull()].rating_ratio, bins=bin_edges, kde=False, hist_kws={'alpha': 1});\n",
    "plt.xlim(0, 2);"
   ]
  },
  {
   "cell_type": "markdown",
   "metadata": {},
   "source": [
    "### Most High Rated Dog Name and Rating Text"
   ]
  },
  {
   "cell_type": "code",
   "execution_count": 335,
   "metadata": {},
   "outputs": [
    {
     "data": {
      "text/plain": [
       "\"This is Atticus. He's quite simply America af. 1776/10 https://t.co/GRXwMxLBkh\""
      ]
     },
     "execution_count": 335,
     "metadata": {},
     "output_type": "execute_result"
    }
   ],
   "source": [
    "tweet[tweet.rating_ratio == tweet.rating_ratio.max()].text[0]"
   ]
  },
  {
   "cell_type": "code",
   "execution_count": 338,
   "metadata": {},
   "outputs": [
    {
     "data": {
      "text/plain": [
       "'Atticus'"
      ]
     },
     "execution_count": 338,
     "metadata": {},
     "output_type": "execute_result"
    }
   ],
   "source": [
    "dog[dog.tweet_id == tweet[tweet.rating_ratio == tweet.rating_ratio.max()].tweet_id[0]].name[0]"
   ]
  }
 ],
 "metadata": {
  "kernelspec": {
   "display_name": "Python 3",
   "language": "python",
   "name": "python3"
  },
  "language_info": {
   "codemirror_mode": {
    "name": "ipython",
    "version": 3
   },
   "file_extension": ".py",
   "mimetype": "text/x-python",
   "name": "python",
   "nbconvert_exporter": "python",
   "pygments_lexer": "ipython3",
   "version": "3.6.3"
  }
 },
 "nbformat": 4,
 "nbformat_minor": 2
}
